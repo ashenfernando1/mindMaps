{
 "cells": [
  {
   "cell_type": "code",
   "execution_count": 2,
   "metadata": {},
   "outputs": [],
   "source": [
    "iAQ = \"\"\"\n",
    "* Improving Indoor Air Quality\n",
    "** Health Benefits\n",
    "*** Reduction in Respiratory Diseases\n",
    "**** Decrease in Healthcare Costs\n",
    "**** Increase in Life Expectancy\n",
    "*** Improvement in Sleep Quality\n",
    "**** Increase in Productivity\n",
    "**** Improvement in Mental Health\n",
    "** Environmental Impact\n",
    "*** Reduction in Energy Consumption\n",
    "**** Lower Carbon Footprint\n",
    "**** Cost Savings\n",
    "*** Improvement in HVAC Efficiency\n",
    "**** Longer Equipment Lifespan\n",
    "**** Reduction in Maintenance Costs\n",
    "** Economic Benefits\n",
    "*** Increase in Property Value\n",
    "**** Attraction of Health-Conscious Buyers\n",
    "**** Higher Rental Rates\n",
    "*** Improvement in Work Performance\n",
    "**** Increase in Employee Satisfaction\n",
    "**** Increase in Business Profitability\n",
    "** Social Benefits\n",
    "*** Increase in Comfort and Well-being\n",
    "**** Improvement in Quality of Life\n",
    "**** Increase in Social Interactions\n",
    "*** Promotion of Healthier Lifestyles\n",
    "**** Increase in Physical Activity\n",
    "**** Improvement in Dietary Habits\n",
    "\"\"\"\n",
    "\n"
   ]
  },
  {
   "cell_type": "code",
   "execution_count": 6,
   "metadata": {},
   "outputs": [],
   "source": [
    "pathogen_removal = \"\"\"\n",
    "* Rapid Removal of Indoor Airborne Pathogens\n",
    "** Health Benefits\n",
    "*** Reduced Disease Transmission\n",
    "**** Lower Healthcare Costs\n",
    "**** Increased Lifespan\n",
    "*** Improved General Health\n",
    "**** Increased Productivity\n",
    "**** Enhanced Quality of Life\n",
    "** Social Implications\n",
    "*** Safer Public Spaces\n",
    "**** Increased Social Interaction\n",
    "**** Revitalization of Public Events\n",
    "*** Reduced Fear of Disease\n",
    "**** Improved Mental Health\n",
    "**** Increased Community Engagement\n",
    "** Economic Impact\n",
    "*** Lower Healthcare Expenditure\n",
    "**** More Disposable Income\n",
    "**** Stronger Economy\n",
    "*** Boost to Travel and Hospitality Industry\n",
    "**** More Job Opportunities\n",
    "**** Economic Recovery\n",
    "** Technological Advancements\n",
    "*** Development of Air Purification Technologies\n",
    "**** More Tech Jobs\n",
    "**** Increased Tech Industry Growth\n",
    "*** Improved HVAC Systems\n",
    "**** Energy Efficiency\n",
    "**** Lower Utility Bills\n",
    "\"\"\""
   ]
  },
  {
   "cell_type": "code",
   "execution_count": 80,
   "metadata": {},
   "outputs": [],
   "source": [
    "vet_plant = \"\"\" \n",
    "* Exposure to Poor Air Quality by Military Veterans\n",
    "\n",
    "** Health Consequences\n",
    "*** Respiratory Diseases\n",
    "**** Asthma\n",
    "**** Chronic Obstructive Pulmonary Disease (COPD)\n",
    "*** Lung Cancer\n",
    "*** Cardiovascular Diseases\n",
    "**** Heart Disease\n",
    "**** Stroke\n",
    "*** Mental Health Issues\n",
    "**** Anxiety\n",
    "**** Depression\n",
    "**** Post-Traumatic Stress Disorder (PTSD)\n",
    "*** Neurological Disorders\n",
    "**** Parkinson's Disease\n",
    "**** Alzheimer's Disease\n",
    "\n",
    "** Economic Consequences\n",
    "*** Healthcare Costs\n",
    "*** Reduced Workforce Productivity\n",
    "*** Disability Benefits\n",
    "\n",
    "** Environmental Consequences\n",
    "*** Air Pollution\n",
    "*** Soil and Water Contamination\n",
    "\n",
    "** Social Consequences\n",
    "*** Reduced Quality of Life\n",
    "*** Increased Healthcare Burden on Society\n",
    "*** Strain on Family and Caregivers\n",
    "\"\"\"\n"
   ]
  },
  {
   "cell_type": "code",
   "execution_count": 8,
   "metadata": {},
   "outputs": [
    {
     "name": "stdout",
     "output_type": "stream",
     "text": [
      "\n",
      "*[#darkgreen] Rapid Removal of Indoor Airborne Pathogens\n",
      "**[#forestgreen] Health Benefits\n",
      "***[#mediumseagreen] Reduced Disease Transmission\n",
      "****[#mediumspringgreen] Lower Healthcare Costs\n",
      "****[#mediumspringgreen] Increased Lifespan\n",
      "***[#mediumseagreen] Improved General Health\n",
      "****[#mediumspringgreen] Increased Productivity\n",
      "****[#mediumspringgreen] Enhanced Quality of Life\n",
      "**[#forestgreen] Social Implications\n",
      "***[#mediumseagreen] Safer Public Spaces\n",
      "****[#mediumspringgreen] Increased Social Interaction\n",
      "****[#mediumspringgreen] Revitalization of Public Events\n",
      "***[#mediumseagreen] Reduced Fear of Disease\n",
      "****[#mediumspringgreen] Improved Mental Health\n",
      "****[#mediumspringgreen] Increased Community Engagement\n",
      "**[#forestgreen] Economic Impact\n",
      "***[#mediumseagreen] Lower Healthcare Expenditure\n",
      "****[#mediumspringgreen] More Disposable Income\n",
      "****[#mediumspringgreen] Stronger Economy\n",
      "***[#mediumseagreen] Boost to Travel and Hospitality Industry\n",
      "****[#mediumspringgreen] More Job Opportunities\n",
      "****[#mediumspringgreen] Economic Recovery\n",
      "**[#forestgreen] Technological Advancements\n",
      "***[#mediumseagreen] Development of Air Purification Technologies\n",
      "****[#mediumspringgreen] More Tech Jobs\n",
      "****[#mediumspringgreen] Increased Tech Industry Growth\n",
      "***[#mediumseagreen] Improved HVAC Systems\n",
      "****[#mediumspringgreen] Energy Efficiency\n",
      "****[#mediumspringgreen] Lower Utility Bills\n",
      "\n"
     ]
    }
   ],
   "source": [
    "import re\n",
    "\n",
    "# define color names/groups using the link below\n",
    "# https://www.w3schools.com/colors/colors_groups.asp\n",
    "orange_colordict = {\n",
    "    1: \"[#orange]\",\n",
    "    2: \"[#darkorange]\",\n",
    "    3: \"[#coral]\",\n",
    "    4: \"[#tomato]\",\n",
    "    5: \"[#lightblue]\",\n",
    "    6: \"[#blue]\",\n",
    "    7: \"[#purple]\"\n",
    "}\n",
    "green_colordict = {\n",
    "    1: \"[#darkgreen]\",\n",
    "    2: \"[#forestgreen]\",\n",
    "    3: \"[#mediumseagreen]\",\n",
    "    4: \"[#mediumspringgreen]\",\n",
    "    5: \"[#lightblue]\",\n",
    "    6: \"[#blue]\",\n",
    "    7: \"[#purple]\"\n",
    "}\n",
    "\n",
    "def replace_asterisks(text, color_dict):\n",
    "    pattern = r'^(\\*+)(.*)$'\n",
    "    lines = text.split('\\n')\n",
    "    line_count = 0\n",
    "\n",
    "    for i in range(len(lines)):\n",
    "        match = re.match(pattern, lines[i])\n",
    "        if match:\n",
    "            asterisks = match.group(1)\n",
    "            line_count +=1\n",
    "            count = len(asterisks)\n",
    "            replacement = f'{asterisks}{color_dict[count]}{match.group(2)}'\n",
    "            lines[i] = replacement\n",
    "\n",
    "    return line_count, '\\n'.join(lines)\n",
    "\n",
    "# Example usage\n",
    "\n",
    "line_count, modified_text = replace_asterisks(pathogen_removal, green_colordict)\n",
    "print(modified_text)"
   ]
  },
  {
   "attachments": {},
   "cell_type": "markdown",
   "metadata": {},
   "source": [
    "In order to create a copy-pastable output from the get-go:\n",
    "- parse the text\n",
    "- count the number of non-empty lines\n",
    "- since we want to insert \n",
    "- check if there are linebreaks\n",
    "    - if yes, coun"
   ]
  },
  {
   "cell_type": "code",
   "execution_count": 137,
   "metadata": {},
   "outputs": [],
   "source": [
    "def getMin(line_count, list_of_breaks):\n",
    "    min_value = min([abs(i-int(line_count)) for i in list_of_breaks])\n",
    "\n",
    "    return [i for i,x in enumerate(list_of_breaks) if abs(x-line_count) == min_value]\n"
   ]
  },
  {
   "cell_type": "code",
   "execution_count": 120,
   "metadata": {},
   "outputs": [
    {
     "data": {
      "text/plain": [
       "[2, 18, 23, 27, 32]"
      ]
     },
     "execution_count": 120,
     "metadata": {},
     "output_type": "execute_result"
    }
   ],
   "source": [
    "line_breaks = []\n",
    "for i,j in enumerate(modified_text.splitlines()):\n",
    "    if j==\"\":\n",
    "        line_breaks.append(i)\n",
    "line_breaks.append(total_lines)\n",
    "line_breaks"
   ]
  },
  {
   "cell_type": "code",
   "execution_count": 121,
   "metadata": {},
   "outputs": [
    {
     "data": {
      "text/plain": [
       "[16, 5, 4, 5]"
      ]
     },
     "execution_count": 121,
     "metadata": {},
     "output_type": "execute_result"
    }
   ],
   "source": [
    "[(line_breaks[i+1]-line_breaks[i]) for i,j in enumerate(line_breaks[1:])]"
   ]
  }
 ],
 "metadata": {
  "kernelspec": {
   "display_name": "f22-test",
   "language": "python",
   "name": "python3"
  },
  "language_info": {
   "codemirror_mode": {
    "name": "ipython",
    "version": 3
   },
   "file_extension": ".py",
   "mimetype": "text/x-python",
   "name": "python",
   "nbconvert_exporter": "python",
   "pygments_lexer": "ipython3",
   "version": "3.10.9"
  },
  "orig_nbformat": 4
 },
 "nbformat": 4,
 "nbformat_minor": 2
}
